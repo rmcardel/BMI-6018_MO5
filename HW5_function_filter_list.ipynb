{
 "cells": [
  {
   "cell_type": "markdown",
   "id": "0b1ad971",
   "metadata": {},
   "source": [
    "Write a python program that, given an input list, will filter the input above a user defined threshold. This is to be done with a standard function.\n",
    "That is, given a list [1,2,3,4,5,6,7,8,9], and an argument (6), it should return [1,2,3,4,5,6]"
   ]
  },
  {
   "cell_type": "code",
   "execution_count": 1,
   "id": "2128e5ed",
   "metadata": {},
   "outputs": [],
   "source": [
    "input = [1,2,3,4,5,6,7,8,9]\n",
    "threshold = 6"
   ]
  },
  {
   "cell_type": "code",
   "execution_count": 3,
   "id": "b9c3ae93",
   "metadata": {},
   "outputs": [
    {
     "data": {
      "text/plain": [
       "[1, 2, 3, 4, 5, 6]"
      ]
     },
     "execution_count": 3,
     "metadata": {},
     "output_type": "execute_result"
    }
   ],
   "source": [
    "def filterList(input, threshold):\n",
    "    return list(filter(lambda x: x <= threshold, input))\n",
    "\n",
    "filterList(input, 6)"
   ]
  },
  {
   "cell_type": "code",
   "execution_count": 4,
   "id": "a26f755c",
   "metadata": {},
   "outputs": [
    {
     "data": {
      "text/plain": [
       "[1, 2, 3, 4, 5, 6]"
      ]
     },
     "execution_count": 4,
     "metadata": {},
     "output_type": "execute_result"
    }
   ],
   "source": [
    "# or:\n",
    "def my_threshold(input, threshold):\n",
    "    output = []\n",
    "    for x in input:\n",
    "        if x <= threshold:\n",
    "            output.append(x)\n",
    "    return output\n",
    "            \n",
    "my_threshold(input, 6)"
   ]
  },
  {
   "cell_type": "code",
   "execution_count": null,
   "id": "10aa6fc1",
   "metadata": {},
   "outputs": [],
   "source": []
  }
 ],
 "metadata": {
  "kernelspec": {
   "display_name": "Python 3 (ipykernel)",
   "language": "python",
   "name": "python3"
  },
  "language_info": {
   "codemirror_mode": {
    "name": "ipython",
    "version": 3
   },
   "file_extension": ".py",
   "mimetype": "text/x-python",
   "name": "python",
   "nbconvert_exporter": "python",
   "pygments_lexer": "ipython3",
   "version": "3.9.7"
  }
 },
 "nbformat": 4,
 "nbformat_minor": 5
}
