{
 "cells": [
  {
   "cell_type": "markdown",
   "id": "1853bff0",
   "metadata": {},
   "source": [
    "Write the a python program that, given an input list of any level of complexity/nestedness, will return the inner most list plus 1. This is to be done with recursion. Note: the input will contain only integers or lists. "
   ]
  },
  {
   "cell_type": "code",
   "execution_count": 2,
   "id": "14cc9b8a",
   "metadata": {},
   "outputs": [],
   "source": [
    "input = [1,2,3,4,[5,6,7,[8,9]]]"
   ]
  },
  {
   "cell_type": "code",
   "execution_count": 3,
   "id": "bfd1bb37",
   "metadata": {},
   "outputs": [
    {
     "name": "stdout",
     "output_type": "stream",
     "text": [
      "[9, 10]\n"
     ]
    }
   ],
   "source": [
    "def innermost(input):\n",
    "    for item in input:\n",
    "        if isinstance(item, list):\n",
    "            return innermost(item)\n",
    "        else:\n",
    "            continue\n",
    "    output = [x+1 for x in input]\n",
    "    print(output)\n",
    "\n",
    "innermost(input)"
   ]
  },
  {
   "cell_type": "code",
   "execution_count": 69,
   "id": "e57d2c8d",
   "metadata": {},
   "outputs": [],
   "source": [
    "#SOURCES:\n",
    "# https://stackoverflow.com/questions/70143508/how-to-find-innermost-level-of-a-list-in-python\n",
    "# https://stackoverflow.com/questions/51625009/get-inner-most-elements-from-triple-nested-list-python\n",
    "# https://stackoverflow.com/questions/5795290/python-add-a-value-to-the-end-of-the-inner-most-right-nested-list\n",
    "# https://stackoverflow.com/questions/59169339/looping-through-list-of-nested-list-of-lists"
   ]
  }
 ],
 "metadata": {
  "kernelspec": {
   "display_name": "Python 3 (ipykernel)",
   "language": "python",
   "name": "python3"
  },
  "language_info": {
   "codemirror_mode": {
    "name": "ipython",
    "version": 3
   },
   "file_extension": ".py",
   "mimetype": "text/x-python",
   "name": "python",
   "nbconvert_exporter": "python",
   "pygments_lexer": "ipython3",
   "version": "3.9.7"
  }
 },
 "nbformat": 4,
 "nbformat_minor": 5
}
