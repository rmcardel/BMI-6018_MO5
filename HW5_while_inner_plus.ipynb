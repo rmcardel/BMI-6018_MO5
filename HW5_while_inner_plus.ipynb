{
 "cells": [
  {
   "cell_type": "markdown",
   "id": "74b8ad23",
   "metadata": {},
   "source": [
    "Write a python program that, given an input list of any level of complexity/nestedness, will return the inner most list plus 1. This is to be done with a while loop. Note: the input will contain only integers or lists. \n",
    "As an example:\n",
    "\n",
    "input_list = [1,2,3,4,[5,6,7,[8,9]]]\n",
    "\n",
    "your_py_program.py input_list\n",
    "\n",
    "will produce:\n",
    "\n",
    "[9,10]\n",
    "\n",
    "That is [8, 9] (the inner most list) plus 1 -> [9, 10]"
   ]
  },
  {
   "cell_type": "code",
   "execution_count": 9,
   "id": "da936841",
   "metadata": {},
   "outputs": [],
   "source": [
    "input_list = [1,2,3,4,[5,6,7,[8,9]]]"
   ]
  },
  {
   "cell_type": "code",
   "execution_count": 10,
   "id": "0d7a6e5b",
   "metadata": {},
   "outputs": [],
   "source": [
    "# Jackie (group member) to the rescue on this one! I tried for DAYS and couldn't quite get here.\n",
    "\n",
    "def inner_most_plus1(input):\n",
    "    i = 0\n",
    "    output = 'no inner list'\n",
    "    \n",
    "    while i < len(input):\n",
    "        if isinstance(input[i], list) == True:\n",
    "            output = input[i]\n",
    "        i += 1\n",
    "        \n",
    "    if output == 'no inner list':\n",
    "        j = 0\n",
    "        for x in input:\n",
    "            input[j] += 1\n",
    "            j += 1\n",
    "        return input\n",
    "    else:\n",
    "        return inner_most_plus1(output)"
   ]
  },
  {
   "cell_type": "code",
   "execution_count": 11,
   "id": "795d75c3",
   "metadata": {},
   "outputs": [
    {
     "data": {
      "text/plain": [
       "[9, 10]"
      ]
     },
     "execution_count": 11,
     "metadata": {},
     "output_type": "execute_result"
    }
   ],
   "source": [
    "inner_most_plus1(input_list)"
   ]
  },
  {
   "cell_type": "code",
   "execution_count": 12,
   "id": "397bd10a",
   "metadata": {},
   "outputs": [],
   "source": [
    "# Kolton's pseudocode:\n",
    "# def func(nested_list):\n",
    "# deepest = nested_list copy\n",
    "\n",
    "# while true:\n",
    "# check to see if deepest has a nested list\n",
    "# if deepest has a nested list:\n",
    "# tmp = []\n",
    "# for loop through items in deepest:\n",
    "# if item is a list:\n",
    "# iterate through item list and append everything to tmp\n",
    "# deepest = tmp copy\n",
    "# else:\n",
    "# return list (after adding 1 to all values)"
   ]
  },
  {
   "cell_type": "code",
   "execution_count": null,
   "id": "8a915331",
   "metadata": {},
   "outputs": [],
   "source": [
    "# https://stackoverflow.com/questions/6340351/iterating-through-list-of-list-in-python\n",
    "# this prints each element in the list individually\n",
    "\n",
    "# https://stackoverflow.com/questions/62018129/using-nested-while-loop-instead-of-for-loops\n",
    "\n",
    "# https://stackoverflow.com/questions/40775271/python-accessing-elements-of-inner-most-list-in-nested-lists\n",
    "\n",
    "# https://stackoverflow.com/questions/19495848/python-extracting-inner-most-lists\n",
    "\n",
    "# https://realpython.com/python-while-loop/"
   ]
  }
 ],
 "metadata": {
  "kernelspec": {
   "display_name": "Python 3 (ipykernel)",
   "language": "python",
   "name": "python3"
  },
  "language_info": {
   "codemirror_mode": {
    "name": "ipython",
    "version": 3
   },
   "file_extension": ".py",
   "mimetype": "text/x-python",
   "name": "python",
   "nbconvert_exporter": "python",
   "pygments_lexer": "ipython3",
   "version": "3.9.7"
  }
 },
 "nbformat": 4,
 "nbformat_minor": 5
}
