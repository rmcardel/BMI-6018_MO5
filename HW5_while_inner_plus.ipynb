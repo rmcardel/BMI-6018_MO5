{
 "cells": [
  {
   "cell_type": "markdown",
   "id": "74b8ad23",
   "metadata": {},
   "source": [
    "Write a python program that, given an input list of any level of complexity/nestedness, will return the inner most list plus 1. This is to be done with a while loop. Note: the input will contain only integers or lists. \n",
    "As an example:\n",
    "\n",
    "input_list = [1,2,3,4,[5,6,7,[8,9]]]\n",
    "\n",
    "your_py_program.py input_list\n",
    "\n",
    "will produce:\n",
    "\n",
    "[9,10]\n",
    "\n",
    "That is [8, 9] (the inner most list) plus 1 -> [9, 10]"
   ]
  },
  {
   "cell_type": "code",
   "execution_count": 9,
   "id": "da936841",
   "metadata": {},
   "outputs": [],
   "source": [
    "input_list = [1,2,3,4,[5,6,7,[8,9]]]"
   ]
  },
  {
   "cell_type": "code",
   "execution_count": 1,
   "id": "0d7a6e5b",
   "metadata": {},
   "outputs": [],
   "source": [
    "# Jackie (group member) to the rescue on this one! I tried for DAYS and couldn't quite get here.\n",
    "\n",
    "def inner_most_plus1(input):\n",
    "    i = 0\n",
    "    output = 'no inner list'\n",
    "    \n",
    "    while i < len(input):\n",
    "        if isinstance(input[i], list) == True:\n",
    "            output = input[i]\n",
    "        i += 1\n",
    "        \n",
    "    if output == 'no inner list':\n",
    "        j = 0\n",
    "        for x in input:\n",
    "            input[j] += 1\n",
    "            j += 1\n",
    "        return input\n",
    "    else:\n",
    "        return inner_most_plus1(output)"
   ]
  },
  {
   "cell_type": "code",
   "execution_count": 11,
   "id": "795d75c3",
   "metadata": {},
   "outputs": [
    {
     "data": {
      "text/plain": [
       "[9, 10]"
      ]
     },
     "execution_count": 11,
     "metadata": {},
     "output_type": "execute_result"
    }
   ],
   "source": [
    "inner_most_plus1(input_list)"
   ]
  },
  {
   "cell_type": "code",
   "execution_count": null,
   "id": "8a915331",
   "metadata": {},
   "outputs": [],
   "source": [
    "# https://stackoverflow.com/questions/6340351/iterating-through-list-of-list-in-python\n",
    "# this prints each element in the list individually\n",
    "\n",
    "# https://stackoverflow.com/questions/62018129/using-nested-while-loop-instead-of-for-loops\n",
    "\n",
    "# https://stackoverflow.com/questions/40775271/python-accessing-elements-of-inner-most-list-in-nested-lists\n",
    "\n",
    "# https://stackoverflow.com/questions/19495848/python-extracting-inner-most-lists\n",
    "\n",
    "# https://realpython.com/python-while-loop/"
   ]
  },
  {
   "cell_type": "code",
   "execution_count": 18,
   "id": "7c7f6a5e",
   "metadata": {},
   "outputs": [
    {
     "name": "stdout",
     "output_type": "stream",
     "text": [
      "[9, 10]\n"
     ]
    }
   ],
   "source": [
    "# TA hour with Umang:\n",
    "# element in list will either be an integer or a list\n",
    "# check if indexed item is a number or not - isnumeric\n",
    "# go through the list, see if the element is an integer or not\n",
    "# if it's  not an integer, it must be a list\n",
    "# so if 7th index is not a number, list = list[7]. assigning that list to a variable.\n",
    "# once you do this, keep doing it until all the elements in that list are just numbers. print.\n",
    "\n",
    "input = [1,2,3,4,[5,6,7,[8,9]]]\n",
    "def innermost(input):\n",
    "    i = 0\n",
    "    \n",
    "    while i < len(input):\n",
    "        if str(input[i]).isnumeric():\n",
    "            i += 1\n",
    "            continue\n",
    "        else:\n",
    "            input = input[i] # not updating my i.  \n",
    "            i = 0 # restarts the counting\n",
    "    output = [x+1 for x in input]\n",
    "    print(output)\n",
    "\n",
    "innermost(input)"
   ]
  },
  {
   "cell_type": "code",
   "execution_count": null,
   "id": "29269009",
   "metadata": {},
   "outputs": [],
   "source": []
  }
 ],
 "metadata": {
  "kernelspec": {
   "display_name": "Python 3 (ipykernel)",
   "language": "python",
   "name": "python3"
  },
  "language_info": {
   "codemirror_mode": {
    "name": "ipython",
    "version": 3
   },
   "file_extension": ".py",
   "mimetype": "text/x-python",
   "name": "python",
   "nbconvert_exporter": "python",
   "pygments_lexer": "ipython3",
   "version": "3.9.7"
  }
 },
 "nbformat": 4,
 "nbformat_minor": 5
}
